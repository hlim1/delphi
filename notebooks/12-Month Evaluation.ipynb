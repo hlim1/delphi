{
 "cells": [
  {
   "cell_type": "markdown",
   "metadata": {},
   "source": [
    "# WM 12 Month Evaluation Notebook\n",
    "\n",
    "_Adarsh Pyarelal_\n",
    "\n",
    "As always, we begin with imports, and print out the commit hash for a rendered\n",
    "version of the notebook."
   ]
  },
  {
   "cell_type": "code",
   "execution_count": null,
   "metadata": {},
   "outputs": [],
   "source": [
    "%load_ext autoreload\n",
    "%autoreload 2\n",
    "%matplotlib inline\n",
    "from IPython.display import set_matplotlib_formats\n",
    "set_matplotlib_formats('retina')\n",
    "from delphi.paths import data_dir\n",
    "from delphi.AnalysisGraph import AnalysisGraph\n",
    "from delphi.visualization import visualize\n",
    "import delphi.jupyter_tools as jt\n",
    "jt.print_commit_hash_message()"
   ]
  },
  {
   "cell_type": "markdown",
   "metadata": {},
   "source": [
    "# Forecasting\n",
    "\n",
    "Q1: How much rainfall is expected in Northern Bahr el Ghazal and Unity in the lean season?\n",
    "\n",
    "A: (_From Cheryl's note_) The lean season represents the time before harvest, when food from the\n",
    "previous harvest is scarce. There may be crops in the field and ample\n",
    "rainfall, but food is scarce. The lean season may vary from year to year based \n",
    "on how much food was harvested the previous year, the timing of the planting\n",
    "season, the growth season length, and other factors. \n",
    "\n",
    "We can approximate the lean season rainfall as the rainfall that occurs between planting and harvest. In general, maize and sorghum are planted around the same time, but maize is  harvested earlier. We can therefore use the maize growing season rainfall as the approximation of lean season rainfall. "
   ]
  },
  {
   "cell_type": "code",
   "execution_count": null,
   "metadata": {
    "scrolled": false
   },
   "outputs": [],
   "source": [
    "jt.get_expected_value(\"rainfall\",\"Northern Bahr el Ghazal\")"
   ]
  },
  {
   "cell_type": "code",
   "execution_count": null,
   "metadata": {
    "scrolled": false
   },
   "outputs": [],
   "source": [
    "jt.get_expected_value(\"rainfall\",\"Unity\")"
   ]
  },
  {
   "cell_type": "markdown",
   "metadata": {},
   "source": [
    "Q2: What are the expected crop yields for maize and sorghum during the summer of 2017 in Northern Bahr el Ghazal and Unity States?"
   ]
  },
  {
   "cell_type": "code",
   "execution_count": null,
   "metadata": {
    "scrolled": false
   },
   "outputs": [],
   "source": [
    "jt.get_expected_value(\"production\",\"Northern Bahr el Ghazal\", crop=\"maize\")"
   ]
  },
  {
   "cell_type": "code",
   "execution_count": null,
   "metadata": {
    "scrolled": true
   },
   "outputs": [],
   "source": [
    "jt.get_expected_value(\"production\",\"Unity\", crop=\"maize\")"
   ]
  },
  {
   "cell_type": "code",
   "execution_count": null,
   "metadata": {
    "scrolled": false
   },
   "outputs": [],
   "source": [
    "jt.get_expected_value(\"production\",\"Northern Bahr el Ghazal\", crop=\"sorghum\")"
   ]
  },
  {
   "cell_type": "code",
   "execution_count": null,
   "metadata": {
    "scrolled": true
   },
   "outputs": [],
   "source": [
    "jt.get_expected_value(\"production\",\"Unity\", crop=\"sorghum\")"
   ]
  },
  {
   "cell_type": "markdown",
   "metadata": {},
   "source": [
    "# Conditional Forecasting\n",
    "\n",
    "Q: What would be the effect on crop yields for maize and sorghum in Northern Bahr el Ghazal State and Unity State if rainfall is 60% less than the mean rainfall for the lean season in previous years (alarm-level drought scenario)?\n",
    "\n",
    "To perform conditional forecasting, we need a causal analysis graph. In the cell below, we will construct a small one directly from text, in order to highlight the salient features of our model building process."
   ]
  },
  {
   "cell_type": "code",
   "execution_count": null,
   "metadata": {
    "scrolled": true
   },
   "outputs": [],
   "source": [
    "G = AnalysisGraph.from_text(\"\"\"\n",
    "An small increase in precipitation causes a large increase in crop yield. An increase in crop yield causes an increase in food availability.\n",
    "\"\"\")\n",
    "visualize(G)"
   ]
  },
  {
   "cell_type": "markdown",
   "metadata": {},
   "source": [
    "Next, we assemble a stochastic transition model for the dynamic Bayes net constructed from this CAG, purely using gradable adjectives. "
   ]
  },
  {
   "cell_type": "code",
   "execution_count": null,
   "metadata": {},
   "outputs": [],
   "source": [
    "G.res=1000\n",
    "G.assemble_transition_model_from_gradable_adjectives()\n",
    "G.sample_from_prior()"
   ]
  },
  {
   "cell_type": "markdown",
   "metadata": {},
   "source": [
    "We then label some nodes for convenience:"
   ]
  },
  {
   "cell_type": "code",
   "execution_count": null,
   "metadata": {
    "scrolled": true
   },
   "outputs": [],
   "source": [
    "n0 = \"UN/events/weather/precipitation\"\n",
    "n1 = \"UN/events/human/agriculture/food_production\""
   ]
  },
  {
   "cell_type": "markdown",
   "metadata": {},
   "source": [
    "Then, we specify, the relative amount by which precipitation changes (-0.6 = 60%):"
   ]
  },
  {
   "cell_type": "code",
   "execution_count": null,
   "metadata": {},
   "outputs": [],
   "source": [
    "delta = -0.6"
   ]
  },
  {
   "cell_type": "markdown",
   "metadata": {},
   "source": [
    "We then run an experiment to see how a 60% decrease in precipitation will affect food production (all quantities start at 1.0)."
   ]
  },
  {
   "cell_type": "code",
   "execution_count": null,
   "metadata": {},
   "outputs": [],
   "source": [
    "jt.run_experiment(G, n0, delta, n1)"
   ]
  },
  {
   "cell_type": "markdown",
   "metadata": {},
   "source": [
    "We can also examine the downstream effect, on food availability:"
   ]
  },
  {
   "cell_type": "code",
   "execution_count": null,
   "metadata": {
    "scrolled": true
   },
   "outputs": [],
   "source": [
    "jt.run_experiment(G, n0, delta,  \"UN/entities/food_availability\")"
   ]
  },
  {
   "cell_type": "markdown",
   "metadata": {},
   "source": [
    "Now, we can sharpen our predictions by learning from data provided by DSSAT. We perform a simple linear fit to get a sharper distribution for $\\beta_{precipitation,food\\_production}$ in the transition matrix."
   ]
  },
  {
   "cell_type": "code",
   "execution_count": null,
   "metadata": {},
   "outputs": [],
   "source": [
    "G.infer_transition_matrix_coefficient_from_data(\n",
    "    n0, n1, state = \"Northern Bahr el Ghazal\", crop = \"maize\"\n",
    ")\n",
    "jt.run_experiment(G, n0, delta,  n1)"
   ]
  },
  {
   "cell_type": "code",
   "execution_count": null,
   "metadata": {},
   "outputs": [],
   "source": [
    "jt.run_experiment(G, n0, delta,  \"UN/entities/food_availability\")"
   ]
  },
  {
   "cell_type": "markdown",
   "metadata": {},
   "source": [
    "We can see that the distributions have become sharper, both for food_production, but also for the downstream quantity food_availability (the standard deviation has reduced).\n",
    "\n",
    "The next step is to connect these distributions of abstract quantities to indicators. For `food_production`, if we specify a custom indicator with a mean derived from the DSSAT data table, we should be able to roughly follow DSSAT trends if we want to quickly measure the effects of changing precipitation on crop yield and nodes downstream of it.\n",
    "\n",
    "If we want more precision, we can use the exact distribution provided by a DSSAT run to more accurately infer the distribution of $\\beta_{precipitation,food\\_production}$ (as opposed to the simple linear fit to historical data)."
   ]
  },
  {
   "cell_type": "code",
   "execution_count": null,
   "metadata": {},
   "outputs": [],
   "source": []
  }
 ],
 "metadata": {
  "kernelspec": {
   "display_name": "Python 3",
   "language": "python",
   "name": "python3"
  },
  "language_info": {
   "codemirror_mode": {
    "name": "ipython",
    "version": 3
   },
   "file_extension": ".py",
   "mimetype": "text/x-python",
   "name": "python",
   "nbconvert_exporter": "python",
   "pygments_lexer": "ipython3",
   "version": "3.6.5"
  }
 },
 "nbformat": 4,
 "nbformat_minor": 2
}
